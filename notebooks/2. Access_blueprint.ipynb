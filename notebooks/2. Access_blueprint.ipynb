{
	"cells": [
		{
			"id": "65dca3e1d0c33e6345db3fa5",
			"cell_type": "markdown",
			"source": "# LLM blueprint access through code\n\nThis Jupyter notebook demonstrates how to access and utilize the LLM blueprint functionality through code. This allows users to interact with and manipulate model blueprints locally.",
			"metadata": {
				"collapsed": false,
				"scrolled": false,
				"datarobot": {
					"language": "markdown"
				},
				"hide_code": false,
				"hide_results": false,
				"disable_run": false,
				"chart_settings": null,
				"custom_metric_settings": null,
				"custom_llm_metric_settings": null,
				"dataframe_view_options": null
			}
		},
		{
			"id": "65e704c50457bec68b41e1be",
			"cell_type": "markdown",
			"source": "## Installation\nEnsure you have the required libraries installed by executing the following commands in your Jupyter notebook:",
			"metadata": {
				"collapsed": false,
				"scrolled": false,
				"datarobot": {
					"language": "markdown"
				},
				"hide_code": false,
				"hide_results": false,
				"disable_run": false,
				"chart_settings": null,
				"custom_metric_settings": null,
				"custom_llm_metric_settings": null,
				"dataframe_view_options": null
			}
		},
		{
			"id": "65dca38f0435dc397366955f",
			"cell_type": "code",
			"source": "!pip install -q datarobotx==0.1.14 \n!pip install -q datarobot \n!pip install -q datarobot-early-access",
			"metadata": {
				"collapsed": false,
				"scrolled": false,
				"datarobot": {
					"language": "python"
				},
				"hide_code": false,
				"hide_results": false,
				"disable_run": false,
				"chart_settings": null,
				"custom_metric_settings": null,
				"custom_llm_metric_settings": null,
				"dataframe_view_options": null
			},
			"outputs": [],
			"execution_count": null
		},
		{
			"id": "65e706a00457bec68b41e257",
			"cell_type": "markdown",
			"source": "## Initialization of DR client\nInitialize DataRobot client with the specified endpoint and token.",
			"metadata": {
				"collapsed": false,
				"scrolled": false,
				"datarobot": {
					"language": "markdown"
				},
				"hide_code": false,
				"hide_results": false,
				"disable_run": false,
				"chart_settings": null,
				"custom_metric_settings": null,
				"custom_llm_metric_settings": null,
				"dataframe_view_options": null
			}
		},
		{
			"id": "65dca20a733bb1c304e3198c",
			"cell_type": "code",
			"source": "import os\nimport pandas as pd\nimport datarobot as dr\nfrom datarobot._experimental.models.genai.chat_prompt import ChatPrompt\nfrom datarobot._experimental.models.genai.llm_blueprint import LLMBlueprint\n\ndef initialize_datarobot_client(endpoint, token):\n    \"\"\"\n    Initialize DataRobot client with the specified endpoint and token.\n\n    Args:\n    - endpoint (str): The endpoint URL for the DataRobot API.\n    - token (str): Your DataRobot API token.\n\n    Returns:\n    - dr.Client: Initialized DataRobot client object.\n    \"\"\"\n    return dr.Client(endpoint=endpoint, token=token)\n\n# Usage\nendpoint = os.environ['endpoint']\ntoken = os.environ['token']\n\n# Initialize DataRobot client\nclient = initialize_datarobot_client(endpoint, token)",
			"metadata": {
				"name": "First cell",
				"collapsed": true,
				"scrolled": "auto",
				"datarobot": {
					"language": "python"
				},
				"hide_code": false,
				"hide_results": false,
				"disable_run": false,
				"chart_settings": null,
				"custom_metric_settings": null,
				"custom_llm_metric_settings": null,
				"dataframe_view_options": null
			},
			"outputs": [
				{
					"output_type": "execute_result",
					"execution_count": 2,
					"data": {
						"text/plain": "You have imported from the _experimental directory.\nThis directory is used for unreleased datarobot features.\nUnless you specifically know better, you don't have the access to use this functionality in the app, so this code will not work.\n"
					},
					"metadata": {}
				}
			],
			"execution_count": null
		},
		{
			"id": "65e7065daa6579a43dafca25",
			"cell_type": "markdown",
			"source": "## Retrieval of LLM Blueprint\nThis code section retrieves a list of LLM blueprints using the LLMBlueprint.list() method and displays the result. It allows you to access the available LLM blueprints for further analysis or manipulations.\n",
			"metadata": {
				"collapsed": false,
				"scrolled": false,
				"datarobot": {
					"language": "markdown"
				},
				"hide_code": false,
				"hide_results": false,
				"disable_run": false,
				"chart_settings": null,
				"custom_metric_settings": null,
				"custom_llm_metric_settings": null,
				"dataframe_view_options": null
			}
		},
		{
			"id": "65dca402d0c33e6345db3fb0",
			"cell_type": "code",
			"source": "# Fetching LLM Blueprints\nllm_blueprints = LLMBlueprint.list()\n\n# Displaying LLM Blueprints\nllm_blueprints\n",
			"metadata": {
				"collapsed": false,
				"scrolled": false,
				"datarobot": {
					"language": "python"
				},
				"hide_code": false,
				"hide_results": false,
				"disable_run": false,
				"chart_settings": null,
				"custom_metric_settings": null,
				"custom_llm_metric_settings": null,
				"dataframe_view_options": null
			},
			"outputs": [
				{
					"output_type": "execute_result",
					"execution_count": 3,
					"data": {
						"text/plain": "[LLMBlueprint(id=65dc877dfdd8ccb9364ce4e7, name=Movies 256/90 | Expert Prompt | GPT3.5 Turbo | Temp 0, is_saved=True),\n LLMBlueprint(id=65dc8747fdd8ccb9364ce4e4, name=Movies 256/0 | Expert Prompt | GPT3.5 Turbo | Temp 0, is_saved=True),\n LLMBlueprint(id=65dc86cf5c4309999899b07d, name=Movies 512/20 | Expert Prompt | GPT3.5 Turbo | Temp 0, is_saved=True),\n LLMBlueprint(id=65dc864cfdd8ccb9364ce4dd, name=Movies 128/20 | Expert Prompt | GPT3.5 Turbo | Temp 0, is_saved=True),\n LLMBlueprint(id=65c4eb30fc3eed76a44c2b6c, name=Research Assistant (research wizard persona), is_saved=True),\n LLMBlueprint(id=65c4e85e24e237fc758ed397, name=Research Assistant (no persona), is_saved=True),\n LLMBlueprint(id=65c4e731fc3eed76a44c2b54, name=Langchain Tutorial (no persona), is_saved=True),\n LLMBlueprint(id=65c4e64bfc3eed76a44c2b50, name=Langchain Tutorial (Engineering wizard persona), is_saved=True),\n LLMBlueprint(id=65c246fa2376a5b7a1eab064, name=Movies | Expert Prompt |GPT3.5 Turbo | Temp 1, is_saved=True),\n LLMBlueprint(id=65c245c92376a5b7a1eab056, name=Drama | Expert Prompt | GPT3.5 Turbo | Temp 1, is_saved=True),\n LLMBlueprint(id=65c241fe2376a5b7a1eab04e, name=Romance | Expert Prompt |GPT3.5 Turbo | Temp 1, is_saved=True),\n LLMBlueprint(id=65c23e342376a5b7a1eab03f, name=Romance | Info Prompt |GPT3.5 Turbo | Temp 1, is_saved=True),\n LLMBlueprint(id=65ba3905b3a4ffa3a1f89bb9, name=Chat with CEO, is_saved=True)]"
					},
					"metadata": {}
				}
			],
			"execution_count": null
		},
		{
			"id": "65e707bd0457bec68b41e2ae",
			"cell_type": "code",
			"source": "# Pick a LLMblueprint\nLLMBlueprint.get(\"65dc877dfdd8ccb9364ce4e7\")",
			"metadata": {
				"collapsed": false,
				"scrolled": false,
				"datarobot": {
					"language": "python"
				},
				"hide_code": false,
				"hide_results": false,
				"disable_run": false,
				"chart_settings": null,
				"custom_metric_settings": null,
				"custom_llm_metric_settings": null,
				"dataframe_view_options": null
			},
			"outputs": [
				{
					"output_type": "execute_result",
					"execution_count": 6,
					"data": {
						"text/plain": "LLMBlueprint(id=65dc877dfdd8ccb9364ce4e7, name=Movies 256/90 | Expert Prompt | GPT3.5 Turbo | Temp 0, is_saved=True)"
					},
					"metadata": {}
				}
			],
			"execution_count": null
		},
		{
			"id": "65e7071a0457bec68b41e27d",
			"cell_type": "markdown",
			"source": "## Accessing the LLMBlueprint\nNow we create a ChatPrompt using the specified LLMBlueprint and prompt text. After the prompt is completed, it prints the confidence score and the result text obtained from the prompt.",
			"metadata": {
				"collapsed": false,
				"scrolled": false,
				"datarobot": {
					"language": "markdown"
				},
				"hide_code": false,
				"hide_results": false,
				"disable_run": false,
				"chart_settings": null,
				"custom_metric_settings": null,
				"custom_llm_metric_settings": null,
				"dataframe_view_options": null
			}
		},
		{
			"id": "65e7070daa6579a43dafca5d",
			"cell_type": "code",
			"source": "# Create ChatPrompt using LLMBlueprint and specified prompt text\nprompt = ChatPrompt.create(LLMBlueprint.get(\"65dc877dfdd8ccb9364ce4e7\"), \"How can a pirate resume be evaluated?\", wait_for_completion=True)\n\n# Print the result text of the prompt\nprint(\"Confidence Score: \" + str(prompt.confidence_scores.rouge))\nprint(prompt.result_text)\n",
			"metadata": {
				"collapsed": false,
				"scrolled": false,
				"datarobot": {
					"language": "python"
				},
				"hide_code": false,
				"hide_results": false,
				"disable_run": false,
				"chart_settings": null,
				"custom_metric_settings": null,
				"custom_llm_metric_settings": null,
				"dataframe_view_options": null
			},
			"outputs": [
				{
					"output_type": "execute_result",
					"execution_count": 7,
					"data": {
						"text/plain": "Confidence Score: 66.66666666666666\nAhoy there! Evaluating a pirate resume can be quite a unique task. While my expertise lies in Drama movies, I'll do my best to assist you. When evaluating a pirate resume, there are a few key factors to consider. First, look for relevant experience in seafaring, navigation, and maritime activities. Pay attention to any notable accomplishments, such as successful raids, treasure hunts, or battles. Assess their leadership skills, as pirates often need to command a crew and make quick decisions. Look for qualities like resourcefulness, adaptability, and the ability to think on their feet. Additionally, check for specialized skills like sword fighting, gunnery, or sailing expertise. Lastly, consider their character and reputation among fellow pirates. A strong pirate resume should reflect a sense of adventure, courage, and a thirst for treasure. Yo ho ho, I hope that helps!\n"
					},
					"metadata": {}
				}
			],
			"execution_count": null
		}
	],
	"metadata": {
		"kernelspec": {
			"name": "python",
			"language": "python",
			"display_name": "Python 3.9.18"
		},
		"language_info": {
			"name": "python",
			"version": ""
		}
	},
	"nbformat": 4,
	"nbformat_minor": 5
}