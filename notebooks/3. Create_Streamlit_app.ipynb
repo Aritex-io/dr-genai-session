{
	"cells": [
		{
			"cell_type": "markdown",
			"id": "65e7abee2b1d03e0c1eecfc4",
			"metadata": {
				"chart_settings": null,
				"collapsed": false,
				"custom_llm_metric_settings": null,
				"custom_metric_settings": null,
				"dataframe_view_options": null,
				"datarobot": {
					"language": "markdown"
				},
				"disable_run": false,
				"hide_code": false,
				"hide_results": false,
				"scrolled": false
			},
			"source": [
				"# Create and deploy custom Streamlit App"
			]
		},
		{
			"cell_type": "markdown",
			"id": "65e7ac5cabc5c780738fb919",
			"metadata": {
				"chart_settings": null,
				"collapsed": false,
				"custom_llm_metric_settings": null,
				"custom_metric_settings": null,
				"dataframe_view_options": null,
				"datarobot": {
					"language": "markdown"
				},
				"disable_run": false,
				"hide_code": false,
				"hide_results": false,
				"scrolled": false
			},
			"source": [
				"## Install the dependencies "
			]
		},
		{
			"cell_type": "code",
			"execution_count": null,
			"id": "65dd17e5ca28cfbed86add54",
			"metadata": {
				"chart_settings": null,
				"collapsed": true,
				"custom_llm_metric_settings": null,
				"custom_metric_settings": null,
				"dataframe_view_options": null,
				"datarobot": {
					"language": "python"
				},
				"disable_run": false,
				"hide_code": false,
				"hide_results": false,
				"name": "First cell",
				"scrolled": "auto"
			},
			"outputs": [],
			"source": [
				"!pip install -q git+https://github.com/datarobot/dr-apps\n"
			]
		},
		{
			"cell_type": "markdown",
			"id": "65e7acddabc5c780738fb941",
			"metadata": {
				"chart_settings": null,
				"collapsed": false,
				"custom_llm_metric_settings": null,
				"custom_metric_settings": null,
				"dataframe_view_options": null,
				"datarobot": {
					"language": "markdown"
				},
				"disable_run": false,
				"hide_code": false,
				"hide_results": false,
				"scrolled": false
			},
			"source": [
				"## Create app.py\n",
				"This code cell writes the content to a Python file named \"app.py\", which defines a Streamlit app for interacting with a deployed model. You need to replace the placeholders 'YOUR_API_URL_HERE', 'YOUR_API_KEY_HERE', 'YOUR_DATAROBOT_KEY_HERE', and 'YOUR_DEPLOYMENT_ID_HERE' with your actual API URL, API key, DataRobot key, and deployment ID respectively. This app allows users to input a question and get predictions from a deployed model."
			]
		},
		{
			"cell_type": "code",
			"execution_count": null,
			"id": "65dd183eca28cfbed86add72",
			"metadata": {
				"chart_settings": null,
				"collapsed": false,
				"custom_llm_metric_settings": null,
				"custom_metric_settings": null,
				"dataframe_view_options": null,
				"datarobot": {
					"language": "python"
				},
				"disable_run": false,
				"hide_code": false,
				"hide_results": false,
				"scrolled": false
			},
			"outputs": [
				{
					"data": {
						"text/plain": [
							"Writing app.py\n"
						]
					},
					"execution_count": 3,
					"metadata": {},
					"output_type": "execute_result"
				}
			],
			"source": [
				"%%writefile app.py\n",
				"\n",
				"import streamlit as st\n",
				"from datarobot import Deployment\n",
				"from datarobot import Client\n",
				"from datarobot.client import set_client\n",
				"\n",
				"import requests, os\n",
				"\n",
				"API_URL = os.environ['API_URL']\n",
				"API_KEY = os.environ['API_KEY']\n",
				"DATAROBOT_KEY = os.environ['DATAROBOT_KEY']\n",
				"DEPLOYMENT_ID = os.environ['DEPLOYMENT_ID']\n",
				"\n",
				"url = API_URL.format(deployment_id=DEPLOYMENT_ID)\n",
				"\n",
				"\n",
				"def start_streamlit():\n",
				"    # Setup DR client\n",
				"    # Because DATAROBOT_API_TOKEN and DATAROBOT_ENDPOINT environment variables provided\n",
				"    # automatically, there is no need in manual setup\n",
				"    set_client(Client())\n",
				"    st.title(\"LLM Demo app\")\n",
				"    inputText = st.text_input('Input Question')\n",
				"    if len(inputText) !=0:\n",
				"        data = \"promptText\\n\" + inputText\n",
				"        print(data)\n",
				"        headers={\n",
				"                    \"Content-Type\": \"text/plain; charset=UTF-8\",\n",
				"                    \"Authorization\": \"Bearer \" + API_KEY ,\n",
				"                    \"DataRobot-Key\": DATAROBOT_KEY\n",
				"                }\n",
				"        predictions_response = requests.post(\n",
				"                url,\n",
				"                data=data,\n",
				"                headers=headers,\n",
				"        )\n",
				"    \n",
				"        response = predictions_response.json()\n",
				"    \n",
				"    \n",
				"        st.write(response['data'][0]['prediction'])\n",
				"    \n",
				"\n",
				"\n",
				"if __name__ == \"__main__\":\n",
				"    start_streamlit()"
			]
		},
		{
			"cell_type": "markdown",
			"id": "65e7ad510457bec68b4216dd",
			"metadata": {
				"chart_settings": null,
				"collapsed": false,
				"custom_llm_metric_settings": null,
				"custom_metric_settings": null,
				"dataframe_view_options": null,
				"datarobot": {
					"language": "markdown"
				},
				"disable_run": false,
				"hide_code": false,
				"hide_results": false,
				"scrolled": false
			},
			"source": [
				"## Create start-app.sh file\n",
				"\n",
				"This code cell writes the content to a shell script file named \"start-app.sh\". The script is responsible for starting the Streamlit app by running the streamlit run app.py command."
			]
		},
		{
			"cell_type": "code",
			"execution_count": null,
			"id": "65dd1b5bca28cfbed86ade6b",
			"metadata": {
				"chart_settings": null,
				"collapsed": false,
				"custom_llm_metric_settings": null,
				"custom_metric_settings": null,
				"dataframe_view_options": null,
				"datarobot": {
					"language": "python"
				},
				"disable_run": false,
				"hide_code": false,
				"hide_results": false,
				"scrolled": false
			},
			"outputs": [
				{
					"data": {
						"text/plain": [
							"Overwriting start-app.sh\n"
						]
					},
					"execution_count": 12,
					"metadata": {},
					"output_type": "execute_result"
				}
			],
			"source": [
				"%%writefile start-app.sh\n",
				"#!/usr/bin/env bash\n",
				"#\n",
				"#  Copyright 2023 DataRobot, Inc. and its affiliates.\n",
				"#\n",
				"#  All rights reserved.\n",
				"#  This is proprietary source code of DataRobot, Inc. and its affiliates.\n",
				"#  Released under the terms of DataRobot Tool and Utility Agreement.\n",
				"#\n",
				"\n",
				"echo \"Starting App\"\n",
				"\n",
				"streamlit run app.py"
			]
		},
		{
			"cell_type": "markdown",
			"id": "65e7ad962b1d03e0c1eed054",
			"metadata": {
				"chart_settings": null,
				"collapsed": false,
				"custom_llm_metric_settings": null,
				"custom_metric_settings": null,
				"dataframe_view_options": null,
				"datarobot": {
					"language": "markdown"
				},
				"disable_run": false,
				"hide_code": false,
				"hide_results": false,
				"scrolled": false
			},
			"source": [
				"## Structure the code\n",
				"This code cell creates a directory named \"app_dir\" and copies the \"app.py\" and \"start-app.sh\" files into it."
			]
		},
		{
			"cell_type": "code",
			"execution_count": null,
			"id": "65dd1b6eca28cfbed86ade72",
			"metadata": {
				"chart_settings": null,
				"collapsed": false,
				"custom_llm_metric_settings": null,
				"custom_metric_settings": null,
				"dataframe_view_options": null,
				"datarobot": {
					"language": "python"
				},
				"disable_run": false,
				"hide_code": false,
				"hide_results": false,
				"scrolled": false
			},
			"outputs": [],
			"source": [
				"!mkdir app_dir\n",
				"!cp app.py ./app_dir\n",
				"!cp start-app.sh ./app_dir"
			]
		},
		{
			"cell_type": "markdown",
			"id": "65e7adc22b1d03e0c1eed063",
			"metadata": {
				"chart_settings": null,
				"collapsed": false,
				"custom_llm_metric_settings": null,
				"custom_metric_settings": null,
				"dataframe_view_options": null,
				"datarobot": {
					"language": "markdown"
				},
				"disable_run": false,
				"hide_code": false,
				"hide_results": false,
				"scrolled": false
			},
			"source": [
				"## Create the App\n",
				"This command will create a DataRobot application named \"LLM_Demo_app_v2\" using the specified template and environment, with the files from the \"app_dir\" directory."
			]
		},
		{
			"cell_type": "code",
			"execution_count": null,
			"id": "65dd1a950919142d67460a1b",
			"metadata": {
				"chart_settings": null,
				"collapsed": false,
				"custom_llm_metric_settings": null,
				"custom_metric_settings": null,
				"dataframe_view_options": null,
				"datarobot": {
					"language": "python"
				},
				"disable_run": false,
				"hide_code": false,
				"hide_results": false,
				"scrolled": false
			},
			"outputs": [
				{
					"data": {
						"text/plain": [
							"Using LLM_Demo_app_v2Image custom application image.\n",
							"Creating new version for LLM_Demo_app_v2Image custom application image.\n",
							"\r\u001b[?25lUploading project:  [####################################]  100%\u001b[?25h\n",
							"Starting LLM_Demo_app_v2 custom application.\n",
							"\r\u001b[?25lWaiting till app is ready:  [------------------------------------]"
						]
					},
					"execution_count": 15,
					"metadata": {},
					"output_type": "execute_result"
				},
				{
					"data": {
						"text/plain": [
							"\r\u001b[?25lWaiting till app is ready:  [------------------------#-----------]"
						]
					},
					"execution_count": 15,
					"metadata": {},
					"output_type": "execute_result"
				},
				{
					"data": {
						"text/plain": [
							"\r\u001b[?25lWaiting till app is ready:  [--#---------------------------------]"
						]
					},
					"execution_count": 15,
					"metadata": {},
					"output_type": "execute_result"
				},
				{
					"data": {
						"text/plain": [
							"\r\u001b[?25lWaiting till app is ready:  [----------------------------------#-]"
						]
					},
					"execution_count": 15,
					"metadata": {},
					"output_type": "execute_result"
				},
				{
					"data": {
						"text/plain": [
							"\r\u001b[?25lWaiting till app is ready:  [------------------#-----------------]"
						]
					},
					"execution_count": 15,
					"metadata": {},
					"output_type": "execute_result"
				},
				{
					"data": {
						"text/plain": [
							"\u001b[?25h\n",
							"Custom application is running: https://app.datarobot.com/custom_applications/65dd21040e460256e88b0aac/\n"
						]
					},
					"execution_count": 15,
					"metadata": {},
					"output_type": "execute_result"
				}
			],
			"source": [
				"! drapps create -t <API_KEY> -e \"[Experimental] Python 3.9 Streamlit\" -p ./app_dir LLM_Demo_app_v2"
			]
		}
	],
	"metadata": {
		"kernelspec": {
			"display_name": "Python 3.9.18",
			"language": "python",
			"name": "python"
		},
		"language_info": {
			"name": "python",
			"version": ""
		}
	},
	"nbformat": 4,
	"nbformat_minor": 5
}
