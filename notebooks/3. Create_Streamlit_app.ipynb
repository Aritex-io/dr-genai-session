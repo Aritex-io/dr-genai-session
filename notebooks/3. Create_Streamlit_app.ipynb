{
	"cells": [
		{
			"id": "65e7abee2b1d03e0c1eecfc4",
			"cell_type": "markdown",
			"source": "# Create and deploy custom Streamlit App",
			"metadata": {
				"collapsed": false,
				"scrolled": false,
				"datarobot": {
					"language": "markdown"
				},
				"hide_code": false,
				"hide_results": false,
				"disable_run": false,
				"chart_settings": null,
				"custom_metric_settings": null,
				"custom_llm_metric_settings": null,
				"dataframe_view_options": null
			}
		},
		{
			"id": "65e7ac5cabc5c780738fb919",
			"cell_type": "markdown",
			"source": "## Install the dependencies ",
			"metadata": {
				"collapsed": false,
				"scrolled": false,
				"datarobot": {
					"language": "markdown"
				},
				"hide_code": false,
				"hide_results": false,
				"disable_run": false,
				"chart_settings": null,
				"custom_metric_settings": null,
				"custom_llm_metric_settings": null,
				"dataframe_view_options": null
			}
		},
		{
			"id": "65dd17e5ca28cfbed86add54",
			"cell_type": "code",
			"source": "!pip install -q git+https://github.com/datarobot/dr-apps\n",
			"metadata": {
				"name": "First cell",
				"collapsed": true,
				"scrolled": "auto",
				"datarobot": {
					"language": "python"
				},
				"hide_code": false,
				"hide_results": false,
				"disable_run": false,
				"chart_settings": null,
				"custom_metric_settings": null,
				"custom_llm_metric_settings": null,
				"dataframe_view_options": null
			},
			"outputs": [],
			"execution_count": null
		},
		{
			"id": "65eb7adafb9cd6f23202c3ec",
			"cell_type": "code",
			"source": "import os\n# Load the creds\nAPI_URL = os.environ['API_URL']\nAPI_KEY = os.environ['API_KEY']\nDATAROBOT_KEY = os.environ['DATAROBOT_KEY']\nDEPLOYMENT_ID = os.environ['DEPLOYMENT_ID']",
			"metadata": {
				"collapsed": false,
				"scrolled": false,
				"datarobot": {
					"language": "python"
				},
				"hide_code": false,
				"hide_results": false,
				"disable_run": false,
				"chart_settings": null,
				"custom_metric_settings": null,
				"custom_llm_metric_settings": null,
				"dataframe_view_options": null
			},
			"outputs": [],
			"execution_count": null
		},
		{
			"id": "65ec5a7b4f3f922ae5bd2a8c",
			"cell_type": "code",
			"source": "import json\n# Create a dictionary to store the credentials\ncreds = {\n    'API_URL': API_URL,\n    'API_KEY': API_KEY,\n    'DATAROBOT_KEY': DATAROBOT_KEY,\n    'DEPLOYMENT_ID': DEPLOYMENT_ID\n}\n\n# Define the file path where you want to store the credentials\nfile_path = 'credentials.json'\n\n# Dump the credentials into the file\nwith open(file_path, 'w') as f:\n    json.dump(creds, f, indent=4)",
			"metadata": {
				"collapsed": false,
				"scrolled": false,
				"datarobot": {
					"language": "python"
				},
				"hide_code": false,
				"hide_results": false,
				"disable_run": false,
				"chart_settings": null,
				"custom_metric_settings": null,
				"custom_llm_metric_settings": null,
				"dataframe_view_options": null
			},
			"outputs": [],
			"execution_count": null
		},
		{
			"id": "65e7acddabc5c780738fb941",
			"cell_type": "markdown",
			"source": "## Create app.py\nThis code cell writes the content to a Python file named \"app.py\", which defines a Streamlit app for interacting with a deployed model. You need to replace the placeholders 'YOUR_API_URL_HERE', 'YOUR_API_KEY_HERE', 'YOUR_DATAROBOT_KEY_HERE', and 'YOUR_DEPLOYMENT_ID_HERE' with your actual API URL, API key, DataRobot key, and deployment ID respectively. This app allows users to input a question and get predictions from a deployed model.",
			"metadata": {
				"collapsed": false,
				"scrolled": false,
				"datarobot": {
					"language": "markdown"
				},
				"hide_code": false,
				"hide_results": false,
				"disable_run": false,
				"chart_settings": null,
				"custom_metric_settings": null,
				"custom_llm_metric_settings": null,
				"dataframe_view_options": null
			}
		},
		{
			"id": "65dd183eca28cfbed86add72",
			"cell_type": "code",
			"source": "%%writefile app.py\n\nimport streamlit as st\nfrom datarobot import Deployment\nfrom datarobot import Client\nfrom datarobot.client import set_client\n\nimport requests, os\nimport json\n\n# Load credentials from the credentials.json file\nwith open('credentials.json', 'r') as f:\n    creds = json.load(f)\n\n# Set environment variables from loaded credentials\nAPI_URL = creds['API_URL']\nAPI_KEY = creds['API_KEY']\nDATAROBOT_KEY = creds['DATAROBOT_KEY']\nDEPLOYMENT_ID = creds['DEPLOYMENT_ID']\n\n\nurl = API_URL.format(deployment_id=DEPLOYMENT_ID)\n\n\ndef start_streamlit():\n    # Setup DR client\n    # Because DATAROBOT_API_TOKEN and DATAROBOT_ENDPOINT environment variables provided\n    # automatically, there is no need in manual setup\n    set_client(Client())\n    st.title(\"Custom Movie Demo chatbot app\")\n    inputText = st.text_input('Input Question')\n    if len(inputText) !=0:\n        data = \"promptText\\n\" + inputText\n        print(data)\n        headers={\n                    \"Content-Type\": \"text/plain; charset=UTF-8\",\n                    \"Authorization\": \"Bearer \" + API_KEY ,\n                    \"DataRobot-Key\": DATAROBOT_KEY\n                }\n        predictions_response = requests.post(\n                url,\n                data=data,\n                headers=headers,\n        )\n    \n        response = predictions_response.json()\n    \n    \n        st.write(response['data'][0]['prediction'])\n    \n\n\nif __name__ == \"__main__\":\n    start_streamlit()",
			"metadata": {
				"collapsed": false,
				"scrolled": false,
				"datarobot": {
					"language": "python"
				},
				"hide_code": false,
				"hide_results": false,
				"disable_run": false,
				"chart_settings": null,
				"custom_metric_settings": null,
				"custom_llm_metric_settings": null,
				"dataframe_view_options": null
			},
			"outputs": [
				{
					"output_type": "execute_result",
					"execution_count": 18,
					"data": {
						"text/plain": "Overwriting app.py\n"
					},
					"metadata": {}
				}
			],
			"execution_count": 18
		},
		{
			"id": "65e7ad510457bec68b4216dd",
			"cell_type": "markdown",
			"source": "## Create start-app.sh file\n\nThis code cell writes the content to a shell script file named \"start-app.sh\". The script is responsible for starting the Streamlit app by running the streamlit run app.py command.",
			"metadata": {
				"collapsed": false,
				"scrolled": false,
				"datarobot": {
					"language": "markdown"
				},
				"hide_code": false,
				"hide_results": false,
				"disable_run": false,
				"chart_settings": null,
				"custom_metric_settings": null,
				"custom_llm_metric_settings": null,
				"dataframe_view_options": null
			}
		},
		{
			"id": "65dd1b5bca28cfbed86ade6b",
			"cell_type": "code",
			"source": "%%writefile start-app.sh\n#!/usr/bin/env bash\n#\n#  Copyright 2023 DataRobot, Inc. and its affiliates.\n#\n#  All rights reserved.\n#  This is proprietary source code of DataRobot, Inc. and its affiliates.\n#  Released under the terms of DataRobot Tool and Utility Agreement.\n#\n\necho \"Starting App\"\n\nstreamlit run app.py",
			"metadata": {
				"collapsed": false,
				"scrolled": false,
				"datarobot": {
					"language": "python"
				},
				"hide_code": false,
				"hide_results": false,
				"disable_run": false,
				"chart_settings": null,
				"custom_metric_settings": null,
				"custom_llm_metric_settings": null,
				"dataframe_view_options": null
			},
			"outputs": [
				{
					"output_type": "execute_result",
					"execution_count": 20,
					"data": {
						"text/plain": "Overwriting start-app.sh\n"
					},
					"metadata": {}
				}
			],
			"execution_count": 20
		},
		{
			"id": "65e7ad962b1d03e0c1eed054",
			"cell_type": "markdown",
			"source": "## Structure the code\nThis code cell creates a directory named \"app_dir\" and copies the \"app.py\" and \"start-app.sh\" files into it.",
			"metadata": {
				"collapsed": false,
				"scrolled": false,
				"datarobot": {
					"language": "markdown"
				},
				"hide_code": false,
				"hide_results": false,
				"disable_run": false,
				"chart_settings": null,
				"custom_metric_settings": null,
				"custom_llm_metric_settings": null,
				"dataframe_view_options": null
			}
		},
		{
			"id": "65dd1b6eca28cfbed86ade72",
			"cell_type": "code",
			"source": "!mkdir app_dir\n!cp app.py ./app_dir\n!cp credentials.json ./app_dir\n!cp start-app.sh ./app_dir",
			"metadata": {
				"collapsed": false,
				"scrolled": false,
				"datarobot": {
					"language": "python"
				},
				"hide_code": false,
				"hide_results": false,
				"disable_run": false,
				"chart_settings": null,
				"custom_metric_settings": null,
				"custom_llm_metric_settings": null,
				"dataframe_view_options": null
			},
			"outputs": [
				{
					"output_type": "execute_result",
					"execution_count": 21,
					"data": {
						"text/plain": "mkdir: cannot create directory ‘app_dir’: File exists\n"
					},
					"metadata": {}
				}
			],
			"execution_count": 21
		},
		{
			"id": "65e7adc22b1d03e0c1eed063",
			"cell_type": "markdown",
			"source": "## Create the App\nThis command will create a DataRobot application named \"LLM_Demo_app_v2\" using the specified template and environment, with the files from the \"app_dir\" directory.",
			"metadata": {
				"collapsed": false,
				"scrolled": false,
				"datarobot": {
					"language": "markdown"
				},
				"hide_code": false,
				"hide_results": false,
				"disable_run": false,
				"chart_settings": null,
				"custom_metric_settings": null,
				"custom_llm_metric_settings": null,
				"dataframe_view_options": null
			}
		},
		{
			"id": "65dd1a950919142d67460a1b",
			"cell_type": "code",
			"source": "command = f\"drapps create -t {API_KEY} -e '[Experimental] Python 3.9 Streamlit' -p ./app_dir LLM_Demo_app2\"\n!{command}\n",
			"metadata": {
				"collapsed": false,
				"scrolled": false,
				"datarobot": {
					"language": "python"
				},
				"hide_code": false,
				"hide_results": false,
				"disable_run": false,
				"chart_settings": null,
				"custom_metric_settings": null,
				"custom_llm_metric_settings": null,
				"dataframe_view_options": null
			},
			"outputs": [
				{
					"output_type": "execute_result",
					"execution_count": 23,
					"data": {
						"text/plain": "Using LLM_Demo_app2Image custom application image.\nCreating new version for LLM_Demo_app2Image custom application image.\n\r\u001b[?25lUploading project:  [####################################]  100%\u001b[?25h\nStarting LLM_Demo_app2 custom application.\n\r\u001b[?25lWaiting till app is ready:  [------------------------------------]"
					},
					"metadata": {}
				},
				{
					"output_type": "execute_result",
					"execution_count": 23,
					"data": {
						"text/plain": "\r\u001b[?25lWaiting till app is ready:  [------------------------#-----------]"
					},
					"metadata": {}
				},
				{
					"output_type": "execute_result",
					"execution_count": 23,
					"data": {
						"text/plain": "\r\u001b[?25lWaiting till app is ready:  [--#---------------------------------]"
					},
					"metadata": {}
				},
				{
					"output_type": "execute_result",
					"execution_count": 23,
					"data": {
						"text/plain": "\r\u001b[?25lWaiting till app is ready:  [----------------------------------#-]"
					},
					"metadata": {}
				},
				{
					"output_type": "execute_result",
					"execution_count": 23,
					"data": {
						"text/plain": "\r\u001b[?25lWaiting till app is ready:  [-----------------#------------------]"
					},
					"metadata": {}
				},
				{
					"output_type": "execute_result",
					"execution_count": 23,
					"data": {
						"text/plain": "\r\u001b[?25lWaiting till app is ready:  [-#----------------------------------]"
					},
					"metadata": {}
				},
				{
					"output_type": "execute_result",
					"execution_count": 23,
					"data": {
						"text/plain": "\r\u001b[?25lWaiting till app is ready:  [----------------------------#-------]"
					},
					"metadata": {}
				},
				{
					"output_type": "execute_result",
					"execution_count": 23,
					"data": {
						"text/plain": "\r\u001b[?25lWaiting till app is ready:  [------------------------------#-----]"
					},
					"metadata": {}
				},
				{
					"output_type": "execute_result",
					"execution_count": 23,
					"data": {
						"text/plain": "\r\u001b[?25lWaiting till app is ready:  [-------------------------------#----]"
					},
					"metadata": {}
				},
				{
					"output_type": "execute_result",
					"execution_count": 23,
					"data": {
						"text/plain": "\r\u001b[?25lWaiting till app is ready:  [------------------------#-----------]"
					},
					"metadata": {}
				},
				{
					"output_type": "execute_result",
					"execution_count": 23,
					"data": {
						"text/plain": "\r\u001b[?25lWaiting till app is ready:  [-----------#------------------------]"
					},
					"metadata": {}
				},
				{
					"output_type": "execute_result",
					"execution_count": 23,
					"data": {
						"text/plain": "\r\u001b[?25lWaiting till app is ready:  [#-----------------------------------]"
					},
					"metadata": {}
				},
				{
					"output_type": "execute_result",
					"execution_count": 23,
					"data": {
						"text/plain": "\r\u001b[?25lWaiting till app is ready:  [---#--------------------------------]"
					},
					"metadata": {}
				},
				{
					"output_type": "execute_result",
					"execution_count": 23,
					"data": {
						"text/plain": "\r\u001b[?25lWaiting till app is ready:  [--------------------#---------------]"
					},
					"metadata": {}
				},
				{
					"output_type": "execute_result",
					"execution_count": 23,
					"data": {
						"text/plain": "\r\u001b[?25lWaiting till app is ready:  [----------------------------------#-]"
					},
					"metadata": {}
				},
				{
					"output_type": "execute_result",
					"execution_count": 23,
					"data": {
						"text/plain": "\r\u001b[?25lWaiting till app is ready:  [-------------------------------#----]"
					},
					"metadata": {}
				},
				{
					"output_type": "execute_result",
					"execution_count": 23,
					"data": {
						"text/plain": "\r\u001b[?25lWaiting till app is ready:  [-------------#----------------------]"
					},
					"metadata": {}
				},
				{
					"output_type": "execute_result",
					"execution_count": 23,
					"data": {
						"text/plain": "\r\u001b[?25lWaiting till app is ready:  [#-----------------------------------]"
					},
					"metadata": {}
				},
				{
					"output_type": "execute_result",
					"execution_count": 23,
					"data": {
						"text/plain": "\r\u001b[?25lWaiting till app is ready:  [-------#----------------------------]"
					},
					"metadata": {}
				},
				{
					"output_type": "execute_result",
					"execution_count": 23,
					"data": {
						"text/plain": "\u001b[?25h\nCustom application is running: https://app.datarobot.com/custom_applications/65ec5c1af44485edebbd7a14/\n"
					},
					"metadata": {}
				}
			],
			"execution_count": 23
		},
		{
			"id": "65eb7a136a58fec6f4dd95bb",
			"cell_type": "code",
			"source": "",
			"metadata": {
				"collapsed": false,
				"scrolled": false,
				"datarobot": {
					"language": "python"
				},
				"hide_code": false,
				"hide_results": false,
				"disable_run": false,
				"chart_settings": null,
				"custom_metric_settings": null,
				"custom_llm_metric_settings": null,
				"dataframe_view_options": null
			},
			"outputs": [],
			"execution_count": null
		}
	],
	"metadata": {
		"kernelspec": {
			"name": "python",
			"language": "python",
			"display_name": "Python 3.9.18"
		},
		"language_info": {
			"name": "python",
			"version": ""
		}
	},
	"nbformat": 4,
	"nbformat_minor": 5
}