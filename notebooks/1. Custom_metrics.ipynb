{
	"cells": [
		{
			"cell_type": "markdown",
			"id": "65e71b16aa6579a43dafd0b2",
			"metadata": {
				"chart_settings": null,
				"collapsed": false,
				"custom_llm_metric_settings": null,
				"custom_metric_settings": null,
				"dataframe_view_options": null,
				"datarobot": {
					"language": "markdown"
				},
				"disable_run": false,
				"hide_code": false,
				"hide_results": false,
				"scrolled": false
			},
			"source": [
				"## Creating custom metrics for your Large Language Model (LLM)\n",
				"\n",
				"Within this Jupyter notebook, you'll discover the seamless process of crafting and implementing custom metrics using code. This invaluable functionality empowers users to deploy metrics tailored precisely to their unique business requirements. Whether you're tracking specialized metrics or catering to distinct business needs, this tutorial equips you with the tools to seamlessly integrate custom metrics into your workflow."
			]
		},
		{
			"cell_type": "markdown",
			"id": "65e71b0dabc5c780738f8b1c",
			"metadata": {
				"chart_settings": null,
				"collapsed": false,
				"custom_llm_metric_settings": null,
				"custom_metric_settings": null,
				"dataframe_view_options": null,
				"datarobot": {
					"language": "markdown"
				},
				"disable_run": false,
				"hide_code": false,
				"hide_results": false,
				"scrolled": false
			},
			"source": [
				"## Installation\n",
				"Ensure you have the required libraries installed by executing the following commands in your Jupyter notebook:"
			]
		},
		{
			"cell_type": "code",
			"execution_count": null,
			"id": "65c4c057ea14b3b9584f84b7",
			"metadata": {
				"chart_settings": null,
				"collapsed": true,
				"custom_llm_metric_settings": null,
				"custom_metric_settings": null,
				"dataframe_view_options": null,
				"datarobot": {
					"language": "python"
				},
				"disable_run": false,
				"hide_code": false,
				"hide_results": false,
				"name": "First cell",
				"scrolled": "auto"
			},
			"outputs": [],
			"source": [
				"!pip install -q datarobot datarobotx[llm] tiktoken textstat textblob nltk py-readability-metrics"
			]
		},
		{
			"cell_type": "code",
			"execution_count": null,
			"id": "65c4c08546ba6b4a1eea6066",
			"metadata": {
				"chart_settings": null,
				"collapsed": false,
				"custom_llm_metric_settings": null,
				"custom_metric_settings": null,
				"dataframe_view_options": null,
				"datarobot": {
					"language": "python"
				},
				"disable_run": false,
				"hide_code": false,
				"hide_results": false,
				"scrolled": false
			},
			"outputs": [
				{
					"data": {
						"text/plain": [
							"[nltk_data] Downloading package brown to /home/notebooks/nltk_data...\n",
							"[nltk_data]   Package brown is already up-to-date!\n",
							"[nltk_data] Downloading package punkt to /home/notebooks/nltk_data...\n",
							"[nltk_data]   Package punkt is already up-to-date!\n",
							"[nltk_data] Downloading package wordnet to\n",
							"[nltk_data]     /home/notebooks/nltk_data...\n",
							"[nltk_data]   Package wordnet is already up-to-date!\n",
							"[nltk_data] Downloading package averaged_perceptron_tagger to\n",
							"[nltk_data]     /home/notebooks/nltk_data...\n",
							"[nltk_data]   Package averaged_perceptron_tagger is already up-to-\n",
							"[nltk_data]       date!\n",
							"[nltk_data] Downloading package conll2000 to\n",
							"[nltk_data]     /home/notebooks/nltk_data...\n",
							"[nltk_data]   Package conll2000 is already up-to-date!\n",
							"[nltk_data] Downloading package movie_reviews to\n",
							"[nltk_data]     /home/notebooks/nltk_data...\n",
							"[nltk_data]   Package movie_reviews is already up-to-date!\n",
							"Finished.\n"
						]
					},
					"execution_count": 9,
					"metadata": {},
					"output_type": "execute_result"
				}
			],
			"source": [
				"!python -m textblob.download_corpora"
			]
		},
		{
			"cell_type": "markdown",
			"id": "65e71bebaa6579a43dafd102",
			"metadata": {
				"chart_settings": null,
				"collapsed": false,
				"custom_llm_metric_settings": null,
				"custom_metric_settings": null,
				"dataframe_view_options": null,
				"datarobot": {
					"language": "markdown"
				},
				"disable_run": false,
				"hide_code": false,
				"hide_results": false,
				"scrolled": false
			},
			"source": [
				"## Creating custom metric function\n",
				"To understand the Total Cost of the solution, the organization will build a metric around the pricing of the GPT 3.5 API provided by Azure. The following function calculates the price per prediction call using token counts calculated using Tiktoken. It then multiplies the token counts with the price per token provided in the Azure OpenAl pricing\n",
				"page. If the LLM is self-hosted, metrics around the compute cost are relevant for the organization."
			]
		},
		{
			"cell_type": "code",
			"execution_count": null,
			"id": "65c4c15446ba6b4a1eea60a5",
			"metadata": {
				"chart_settings": null,
				"collapsed": false,
				"custom_llm_metric_settings": null,
				"custom_metric_settings": null,
				"dataframe_view_options": null,
				"datarobot": {
					"language": "python"
				},
				"disable_run": false,
				"hide_code": false,
				"hide_results": false,
				"scrolled": false
			},
			"outputs": [],
			"source": [
				"import tiktoken, os\n",
				"\n",
				"\n",
				"# Obtain encoding for the specified model\n",
				"encoding = tiktoken.get_encoding(\"cl100k_base\")\n",
				"\n",
				"# Define custom metrics functions\n",
				"def get_gpt_token_count(text):\n",
				"    return len(encoding.encode(text))\n",
				"\n",
				"def get_gpt_3_5_cost(\n",
				"    prompt, response, prompt_token_cost=0.0015 / 1000, response_token_cost=0.002 / 1000\n",
				"):\n",
				"    return (\n",
				"        get_gpt_token_count(prompt) * prompt_token_cost\n",
				"        + get_gpt_token_count(response) * response_token_cost\n",
				"    )\n",
				"\n",
				"# Example usage\n",
				"prompt = \"How can we improve renewable energy?\"\n",
				"response = \"By investing in solar and wind technologies.\"\n",
				"\n",
				"# Calculate custom metric\n",
				"cost = get_gpt_3_5_cost(prompt, response)\n",
				"print(\"Cost of generating response:\", cost)\n"
			]
		},
		{
			"cell_type": "markdown",
			"id": "65e7ab84abc5c780738fb8d5",
			"metadata": {
				"chart_settings": null,
				"collapsed": false,
				"custom_llm_metric_settings": null,
				"custom_metric_settings": null,
				"dataframe_view_options": null,
				"datarobot": {
					"language": "markdown"
				},
				"disable_run": false,
				"hide_code": false,
				"hide_results": false,
				"scrolled": false
			},
			"source": [
				"## Upload custom metrics\n",
				"This function submit_custom_metric records values for an existing custom metric on a deployment. It takes the API URL, API key, deployment ID, custom metric ID, model package ID, and the metric value as inputs, and posts the data to the specified endpoint."
			]
		},
		{
			"cell_type": "code",
			"execution_count": null,
			"id": "65c4c270ea14b3b9584f8564",
			"metadata": {
				"chart_settings": null,
				"collapsed": false,
				"custom_llm_metric_settings": null,
				"custom_metric_settings": null,
				"dataframe_view_options": null,
				"datarobot": {
					"language": "python"
				},
				"disable_run": false,
				"hide_code": false,
				"hide_results": false,
				"scrolled": false
			},
			"outputs": [],
			"source": [
				"API_URL = os.environ['API_URL']\n",
				"API_KEY = os.environ['API_KEY']\n",
				"DEPLOYMENT_ID = os.environ['DEPLOYMENT_ID']\n",
				"CUSTOM_METRIC_ID = os.environ['CUSTOM_METRIC_ID']\n",
				"MODEL_PACKAGE_ID = os.environ['MODEL_PACKAGE_ID']\n",
				"\n",
				"def submit_custom_metric(API_URL,API_KEY,DEPLOYMENT_ID,CUSTOM_METRIC_ID,MODEL_PACKAGE_ID, metric):\n",
				"    \"\"\"Record values for an existing custom metric on a deployment\"\"\"\n",
				"    \n",
				"    HEADERS = {\n",
				"    'Authorization': 'Bearer {}'.format(API_KEY),\n",
				"    'User-Agent': 'IntegrationSnippet-Requests',\n",
				"    }\n",
				"    time_ = datetime.today().strftime(\"%m/%d/%Y %I:%M %p\")\n",
				"    rows = [\n",
				"        {\"timestamp\": ts.isoformat(), \"value\": value}\n",
				"        for ts, value in zip([pd.to_datetime(time_)], [metric])\n",
				"    ]\n",
				"    response = requests.post(\n",
				"        API_URL.format(DEPLOYMENT_ID, CUSTOM_METRIC_ID),\n",
				"        json={'modelPackageId': MODEL_PACKAGE_ID, 'buckets': rows,},\n",
				"        headers=HEADERS,\n",
				"    )\n",
				"    response.raise_for_status()"
			]
		},
		{
			"cell_type": "code",
			"execution_count": null,
			"id": "65c4d0c946ba6b4a1eea6579",
			"metadata": {
				"chart_settings": null,
				"collapsed": false,
				"custom_llm_metric_settings": null,
				"custom_metric_settings": null,
				"dataframe_view_options": null,
				"datarobot": {
					"language": "python"
				},
				"disable_run": false,
				"hide_code": false,
				"hide_results": false,
				"scrolled": false
			},
			"outputs": [],
			"source": [
				"submit_custom_metric(\n",
				"    API_URL,\n",
				"    API_KEY,\n",
				"    DEPLOYMENT_ID,\n",
				"    CUSTOM_METRIC_ID,\n",
				"    MODEL_PACKAGE_ID,\n",
				"    get_gpt_3_5_cost(inputText, predictions_response.json()[\"data\"][0][\"prediction\"]),\n",
				")"
			]
		}
	],
	"metadata": {
		"kernelspec": {
			"display_name": "Python 3.9.18",
			"language": "python",
			"name": "python"
		},
		"language_info": {
			"name": "python",
			"version": ""
		}
	},
	"nbformat": 4,
	"nbformat_minor": 5
}
